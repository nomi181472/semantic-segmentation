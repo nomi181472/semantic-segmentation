{
 "cells": [
  {
   "cell_type": "code",
   "execution_count": 14,
   "id": "59cf4209-78cb-4440-93b6-fc307972f5eb",
   "metadata": {},
   "outputs": [],
   "source": [
    "import json\n",
    "import numpy as np\n",
    "from PIL import Image\n",
    "import cv2\n",
    "import os\n",
    "\n",
    "# Define class mapping (adjust based on your VIA attributes)\n",
    "class_map = {\n",
    "    \"court\": 0\n",
    "}\n",
    "\n",
    "# Paths\n",
    "image_dir = \"dataset/images/\"\n",
    "mask_dir = \"dataset/masks/\"\n",
    "os.makedirs(mask_dir, exist_ok=True)\n",
    "annotation_file = \"via_annotations.json\"\n"
   ]
  },
  {
   "cell_type": "code",
   "execution_count": 20,
   "id": "7e41d5d7-8cb1-4e4c-ba58-298afeed0639",
   "metadata": {},
   "outputs": [
    {
     "name": "stdout",
     "output_type": "stream",
     "text": [
      "\n",
      "Processing Video_250210220923_Slice_1_frame_0030_jpg.rf.76a47684a2613c61bc710cba7abe2c10.jpg\n",
      "Image dimensions: 640x640\n",
      "Number of regions: 1\n",
      "Region 0: Class = object (ID = 1)\n",
      "Polygon X coords: [130, 104, 97, 85, 61, 33, 17, 176, 399, 622, 601, 527, 507, 506, 491, 477, 470, 450, 434, 383, 322, 270, 215, 136]\n",
      "Polygon Y coords: [300, 369, 394, 416, 478, 560, 602, 593, 581, 573, 514, 338, 289, 282, 280, 279, 279, 279, 278, 274, 275, 277, 284, 298]\n",
      "Polygon bounds: X = [17, 622], Y = [274, 602]\n",
      "Coords array shape: (24, 2)\n",
      "Drew polygon with class ID 1\n",
      "Saved mask: dataset/masks/Video_250210220923_Slice_1_frame_0030_jpg.rf.76a47684a2613c61bc710cba7abe2c10_mask.png\n",
      "Unique values in mask: [0 1]\n",
      "Test mask unique values: [0 1]\n"
     ]
    }
   ],
   "source": [
    "import json\n",
    "import numpy as np\n",
    "from PIL import Image\n",
    "import cv2\n",
    "import os\n",
    "\n",
    "# Define class mapping\n",
    "class_map = {\n",
    "    \"background\": 0,\n",
    "    \"object\": 1\n",
    "}\n",
    "\n",
    "# Paths\n",
    "image_dir = \"dataset/images/\"\n",
    "mask_dir = \"dataset/masks/\"\n",
    "os.makedirs(mask_dir, exist_ok=True)\n",
    "annotation_file = \"via_annotations.json\"\n",
    "\n",
    "# Load JSON annotations\n",
    "with open(annotation_file, 'r') as f:\n",
    "    data = json.load(f)\n",
    "\n",
    "# Process each image\n",
    "for key, value in data.items():\n",
    "    filename = value['filename']\n",
    "    img_path = os.path.join(image_dir, filename)\n",
    "    \n",
    "    # Load image and get dimensions\n",
    "    try:\n",
    "        img = Image.open(img_path)\n",
    "        width, height = img.size\n",
    "        print(f\"\\nProcessing {filename}\")\n",
    "        print(f\"Image dimensions: {width}x{height}\")\n",
    "    except FileNotFoundError:\n",
    "        print(f\"Image not found: {img_path}. Skipping.\")\n",
    "        continue\n",
    "    \n",
    "    # Create empty mask\n",
    "    mask = np.zeros((height, width), dtype=np.uint8)\n",
    "    \n",
    "    # Process regions\n",
    "    regions = value['regions']\n",
    "    print(f\"Number of regions: {len(regions)}\")\n",
    "    if not regions:\n",
    "        print(f\"No regions found for {filename}\")\n",
    "    \n",
    "    for i, region in enumerate(regions):\n",
    "        shape = region['shape_attributes']\n",
    "        class_name = region['region_attributes'].get('class', 'object')\n",
    "        class_id = class_map[class_name]\n",
    "        print(f\"Region {i}: Class = {class_name} (ID = {class_id})\")\n",
    "        \n",
    "        if shape['name'] == 'polygon':\n",
    "            x_coords = shape['all_points_x']\n",
    "            y_coords = shape['all_points_y']\n",
    "            print(f\"Polygon X coords: {x_coords}\")\n",
    "            print(f\"Polygon Y coords: {y_coords}\")\n",
    "            \n",
    "            # Validate polygon\n",
    "            if len(x_coords) < 3 or len(y_coords) < 3:\n",
    "                print(f\"Invalid polygon: too few points\")\n",
    "                continue\n",
    "            if len(x_coords) != len(y_coords):\n",
    "                print(f\"Invalid polygon: X/Y length mismatch\")\n",
    "                continue\n",
    "            \n",
    "            # Check bounds\n",
    "            max_x, min_x = max(x_coords), min(x_coords)\n",
    "            max_y, min_y = max(y_coords), min(y_coords)\n",
    "            print(f\"Polygon bounds: X = [{min_x}, {max_x}], Y = [{min_y}, {max_y}]\")\n",
    "            if max_x >= width or max_y >= height or min_x < 0 or min_y < 0:\n",
    "                print(f\"Warning: Coordinates out of bounds\")\n",
    "            \n",
    "            # Draw polygon\n",
    "            coords = np.array(list(zip(x_coords, y_coords)), np.int32)\n",
    "            print(f\"Coords array shape: {coords.shape}\")\n",
    "            cv2.fillPoly(mask, [coords], class_id)\n",
    "            print(f\"Drew polygon with class ID {class_id}\")\n",
    "    \n",
    "    # Save mask\n",
    "    mask_path = os.path.join(mask_dir, filename.replace('.jpg', '_mask.png'))\n",
    "    Image.fromarray(mask).save(mask_path)\n",
    "    print(f\"Saved mask: {mask_path}\")\n",
    "    \n",
    "    # Check mask content\n",
    "    mask_array = np.array(Image.open(mask_path))\n",
    "    unique_values = np.unique(mask_array)\n",
    "    print(f\"Unique values in mask: {unique_values}\")\n",
    "    \n",
    "    # Break after one image for debugging\n",
    "    break\n",
    "\n",
    "# Test OpenCV drawing\n",
    "test_mask = np.zeros((500, 500), dtype=np.uint8)\n",
    "test_coords = np.array([[10, 10], [100, 10], [100, 100]], np.int32)\n",
    "cv2.fillPoly(test_mask, [test_coords], 1)\n",
    "Image.fromarray(test_mask).save(\"test_mask.png\")\n",
    "print(f\"Test mask unique values: {np.unique(np.array(Image.open('test_mask.png')))}\")"
   ]
  },
  {
   "cell_type": "code",
   "execution_count": 22,
   "id": "a9b18286-f7ee-469f-87f4-270af16d782c",
   "metadata": {},
   "outputs": [
    {
     "name": "stdout",
     "output_type": "stream",
     "text": [
      "Shape: (640, 640)\n",
      "Unique values: (array([0, 1], dtype=uint8), array([260015, 149585]))\n"
     ]
    }
   ],
   "source": [
    "from PIL import Image\n",
    "import numpy as np\n",
    "mask = np.array(Image.open(\"dataset/masks/Video_250210220923_Slice_1_frame_0030_jpg.rf.76a47684a2613c61bc710cba7abe2c10_mask.png\"))\n",
    "print(\"Shape:\", mask.shape)\n",
    "print(\"Unique values:\", np.unique(mask, return_counts=True))  # Counts of each value"
   ]
  },
  {
   "cell_type": "code",
   "execution_count": 27,
   "id": "b87e32d6-b5e4-4cff-9734-ab004fed8462",
   "metadata": {},
   "outputs": [
    {
     "data": {
      "image/png": "[encoded data removed]",
      "text/plain": [
       "<Figure size 640x480 with 2 Axes>"
      ]
     },
     "metadata": {},
     "output_type": "display_data"
    }
   ],
   "source": [
    "import matplotlib.pyplot as plt\n",
    "plt.imshow(mask, cmap='gray')\n",
    "plt.colorbar()\n",
    "plt.show()"
   ]
  },
  {
   "cell_type": "code",
   "execution_count": null,
   "id": "235d3dd6-3f57-447c-ba6b-763a1c033e2d",
   "metadata": {},
   "outputs": [],
   "source": []
  }
 ],
 "metadata": {
  "kernelspec": {
   "display_name": "Python 3 (ipykernel)",
   "language": "python",
   "name": "python3"
  },
  "language_info": {
   "codemirror_mode": {
    "name": "ipython",
    "version": 3
   },
   "file_extension": ".py",
   "mimetype": "text/x-python",
   "name": "python",
   "nbconvert_exporter": "python",
   "pygments_lexer": "ipython3",
   "version": "3.11.11"
  }
 },
 "nbformat": 4,
 "nbformat_minor": 5
}
